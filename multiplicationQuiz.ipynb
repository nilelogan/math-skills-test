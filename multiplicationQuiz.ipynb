{
 "cells": [
  {
   "cell_type": "code",
   "execution_count": 2,
   "metadata": {},
   "outputs": [],
   "source": [
    "import pyinputplus as pyip\n",
    "import random, time"
   ]
  },
  {
   "cell_type": "code",
   "execution_count": 3,
   "metadata": {},
   "outputs": [
    {
     "name": "stdout",
     "output_type": "stream",
     "text": [
      "#0: 2 X 9 =18\n",
      "Correct!\n",
      "#1: 10 X 9 =90\n",
      "Correct!\n",
      "#2: 3 X 1 =3\n",
      "Correct!\n",
      "#3: 0 X 0 =0\n",
      "Correct!\n",
      "#4: 8 X 8 =64\n",
      "Correct!\n",
      "#5: 0 X 5 =0\n",
      "Correct!\n",
      "#6: 8 X 0 =0\n",
      "Correct!\n",
      "#7: 10 X 4 =40\n",
      "Correct!\n",
      "#8: 0 X 7 =0\n",
      "Correct!\n",
      "#9: 0 X 5 =0\n",
      "Correct!\n",
      "Score: 10 / 10\n"
     ]
    }
   ],
   "source": [
    "numberOfQuestions = 10\n",
    "correctAnswers = 0\n",
    "for questionNumber in range(numberOfQuestions):\n",
    "    # Pick two random numbers:\n",
    "    num1 =random.randint(0,10)\n",
    "    num2 = random.randint(0,10)\n",
    "    prompt = '#%s: %s X %s =' % (questionNumber, num1, num2)\n",
    "    try:\n",
    "        # Right answers are handled by allowRegexes.\n",
    "        # Wrong answers are handled by blockRegexes, with a custom message.\n",
    "        pyip.inputStr(prompt, allowRegexes=['^%s$'%(num1*num2)],blockRegexes=[('.*','Incorrect!')],timeout=8,limit=3)\n",
    "    except pyip.TimeoutException:\n",
    "            print('Out of time!')\n",
    "    except pyip.RetryLimitException:\n",
    "            print('Out of tries!')\n",
    "    else:\n",
    "            # This block runs if no exceptions were raised in the try block.\n",
    "            print('Correct!')\n",
    "            correctAnswers +=1\n",
    "            time.sleep(1) # Brief pause to let user see the result\n",
    "print('Score: %s / %s' % (correctAnswers, numberOfQuestions))"
   ]
  },
  {
   "cell_type": "code",
   "execution_count": null,
   "metadata": {},
   "outputs": [],
   "source": []
  }
 ],
 "metadata": {
  "kernelspec": {
   "display_name": "Python 3",
   "language": "python",
   "name": "python3"
  },
  "language_info": {
   "codemirror_mode": {
    "name": "ipython",
    "version": 3
   },
   "file_extension": ".py",
   "mimetype": "text/x-python",
   "name": "python",
   "nbconvert_exporter": "python",
   "pygments_lexer": "ipython3",
   "version": "3.7.4"
  }
 },
 "nbformat": 4,
 "nbformat_minor": 2
}
